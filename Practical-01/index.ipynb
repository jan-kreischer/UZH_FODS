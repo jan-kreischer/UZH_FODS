{
 "cells": [
  {
   "cell_type": "markdown",
   "metadata": {
    "colab_type": "text",
    "id": "id1w7kwZVF3I"
   },
   "source": [
    "# Practical 1: Implementation of Linear Regression\n",
    "\n",
    "\n",
    "**Contributions**<br/>\n",
    "All teammates (Jan Bauer, Maida Sabotic, Giuseppe Scafiti) contributed equally to this assignment.\n",
    "\n",
    "First part:\n",
    "- Implement linear regression model \n",
    "    - using least squares method\n",
    "    - implement directly using the NumPy package\n",
    "\n",
    "Second part:\n",
    "- regularization\n",
    "- polynomial basis expansion\n",
    "- cross validation\n",
    "- scikit-learn: https://scikit-learn.org/\n",
    "\n",
    "You will need to use the following:"
   ]
  },
  {
   "cell_type": "code",
   "execution_count": 42,
   "metadata": {
    "colab": {},
    "colab_type": "code",
    "id": "CTZv9o5i4gy3"
   },
   "outputs": [],
   "source": [
    "import numpy as np\n",
    "import matplotlib.pyplot as plt\n",
    "import _pickle as cp"
   ]
  },
  {
   "cell_type": "markdown",
   "metadata": {
    "colab_type": "text",
    "id": "TzDL9RQiVaPY"
   },
   "source": [
    "For the purpose of testing, we’ll use the winequality dataset. The dataset is available here:\n",
    "https://archive.ics.uci.edu/ml/datasets/Wine+Quality In order to make it easier to import the dataset, we’ve converted the data to the numpy array format and shuffled it so that you can start the practical directly. The dataset is available on the course website. The dataset has two files. We’ll focus on the white wine data, which is the larger dataset. You can load the data from the files as follows:"
   ]
  },
  {
   "cell_type": "code",
   "execution_count": 43,
   "metadata": {
    "colab": {
     "base_uri": "https://localhost:8080/",
     "height": 51
    },
    "colab_type": "code",
    "executionInfo": {
     "elapsed": 1423,
     "status": "ok",
     "timestamp": 1596436129238,
     "user": {
      "displayName": "Haozhe Zhang",
      "photoUrl": "https://lh3.googleusercontent.com/a-/AOh14GhewCb1FImnjURCLugyfalL8wVXJomnuoEHUckN=s64",
      "userId": "15943369882491692800"
     },
     "user_tz": -480
    },
    "id": "NYkwbebUVO_i",
    "outputId": "80ed8916-85c3-4564-cda8-d8a8f36aaa1d"
   },
   "outputs": [
    {
     "name": "stdout",
     "output_type": "stream",
     "text": [
      "X is a matrix with shape (4898, 11), which has 4898 records and 11 attributes.\n",
      "y is a vector with 4898 values, which stores the corresponding labels of the data records in X\n"
     ]
    }
   ],
   "source": [
    "# load the dataset\n",
    "# X is a matrix such that each row stores a data record \n",
    "# y is a vector of the corresponding labels of the records\n",
    "X, y = cp.load(open('winequality-white.pickle', 'rb'))\n",
    "\n",
    "# check the size of the data\n",
    "print(\"X is a matrix with shape {}, which has {} records and {} attributes.\".format(X.shape, X.shape[0], X.shape[1]))\n",
    "print(\"y is a vector with {} values, which stores the corresponding labels of the data records in X\".format(y.shape[0]))"
   ]
  },
  {
   "cell_type": "code",
   "execution_count": 44,
   "metadata": {
    "colab": {
     "base_uri": "https://localhost:8080/",
     "height": 85
    },
    "colab_type": "code",
    "executionInfo": {
     "elapsed": 1416,
     "status": "ok",
     "timestamp": 1596436129239,
     "user": {
      "displayName": "Haozhe Zhang",
      "photoUrl": "https://lh3.googleusercontent.com/a-/AOh14GhewCb1FImnjURCLugyfalL8wVXJomnuoEHUckN=s64",
      "userId": "15943369882491692800"
     },
     "user_tz": -480
    },
    "id": "6ZqbBa8bWNYg",
    "outputId": "da274c4e-c3ed-4ac0-8442-27befcf26f4c"
   },
   "outputs": [
    {
     "name": "stdout",
     "output_type": "stream",
     "text": [
      "Shape of X_train: (3918, 11)\n",
      "Shape of y_train: (3918,)\n",
      "Shape of X_test: (980, 11)\n",
      "Shape of y_test: (980,)\n"
     ]
    }
   ],
   "source": [
    "# The function splits the dataset into the training dataset and the test dataset.\n",
    "# The parameter split_coeff is a percentage value such that\n",
    "# the first split_coeff of the dataset goes to the training dataset, \n",
    "# and the remaining data goes to the test dataset.\n",
    "def split_data(X, y, split_coeff):\n",
    "    N, _ = X.shape # get the number of records (rows)\n",
    "    train_size = int(split_coeff * N) # use the first split_coeff of the data as the training data\n",
    "    X_train = X[:train_size] # the first training_size records\n",
    "    y_train = y[:train_size]\n",
    "    X_test = X[train_size:] # the last test_size records\n",
    "    y_test = y[train_size:]\n",
    "    return X_train, y_train, X_test, y_test\n",
    "\n",
    "X_train, y_train, X_test, y_test = split_data(X, y, 0.8) # use 80% of the data as training data\n",
    "\n",
    "# check the size of the splitted dataset\n",
    "print(\"Shape of X_train:\", X_train.shape)\n",
    "print(\"Shape of y_train:\", y_train.shape)\n",
    "print(\"Shape of X_test:\", X_test.shape)\n",
    "print(\"Shape of y_test:\", y_test.shape)"
   ]
  },
  {
   "cell_type": "markdown",
   "metadata": {
    "colab_type": "text",
    "id": "-PMpsZNSWthB"
   },
   "source": [
    "### **Task 1**\n",
    "Make a bar chart showing the distribution of y values appearing in the training data.\n",
    "\n",
    "Before we get to training a linear model on the data and using it to make predictions, let’s look\n",
    "at the spread of y values on the training set. The values are integers between 3 and 9 indicating\n",
    "the quality of the wine."
   ]
  },
  {
   "cell_type": "code",
   "execution_count": 45,
   "metadata": {
    "cellView": "both",
    "colab": {
     "base_uri": "https://localhost:8080/",
     "height": 295
    },
    "colab_type": "code",
    "executionInfo": {
     "elapsed": 1409,
     "status": "ok",
     "timestamp": 1596436129240,
     "user": {
      "displayName": "Haozhe Zhang",
      "photoUrl": "https://lh3.googleusercontent.com/a-/AOh14GhewCb1FImnjURCLugyfalL8wVXJomnuoEHUckN=s64",
      "userId": "15943369882491692800"
     },
     "user_tz": -480
    },
    "id": "4L_JDK3dWrsR",
    "outputId": "71b22bf6-77ce-4bd6-d5b1-61f633923144"
   },
   "outputs": [
    {
     "name": "stdout",
     "output_type": "stream",
     "text": [
      "\n"
     ]
    },
    {
     "data": {
      "image/png": "[encoded data removed]",
      "text/plain": [
       "<Figure size 432x288 with 1 Axes>"
      ]
     },
     "metadata": {
      "needs_background": "light"
     },
     "output_type": "display_data"
    }
   ],
   "source": [
    "#@title\n",
    "# Task 1: \n",
    "# the function takes the training dataset as the input, and make the bar chart\n",
    "def plot_bar_chart_score(y_train) ->  dict:\n",
    "        hist = {}\n",
    "        for i in y_train:\n",
    "            hist[i] = hist.get(i, 0) + 1\n",
    "        return hist\n",
    "counted = plot_bar_chart_score(y_train)\n",
    "hist_new = np.array(list(counted.items())) \n",
    "hist_n=hist_new.T\n",
    "plt.xlabel('Score')\n",
    "plt.ylabel('Number of wines')\n",
    "plt.title('Distribution of scores of wines')\n",
    "plt.bar(hist_n[0,:],hist_n[1,:])\n",
    "print()"
   ]
  },
  {
   "cell_type": "markdown",
   "metadata": {
    "colab_type": "text",
    "id": "GxjlElni2FcH"
   },
   "source": [
    "### **Task 2** \n",
    "Implement the trivial predictor, which uses the average value of y on the training set as the prediction for ever datapoint. "
   ]
  },
  {
   "cell_type": "code",
   "execution_count": 46,
   "metadata": {
    "colab": {
     "base_uri": "https://localhost:8080/",
     "height": 34
    },
    "colab_type": "code",
    "executionInfo": {
     "elapsed": 1402,
     "status": "ok",
     "timestamp": 1596436129240,
     "user": {
      "displayName": "Haozhe Zhang",
      "photoUrl": "https://lh3.googleusercontent.com/a-/AOh14GhewCb1FImnjURCLugyfalL8wVXJomnuoEHUckN=s64",
      "userId": "15943369882491692800"
     },
     "user_tz": -480
    },
    "id": "-V3xFYexX1lt",
    "outputId": "5e57738e-87d5-408c-f1bf-9df66a175f35"
   },
   "outputs": [
    {
     "name": "stdout",
     "output_type": "stream",
     "text": [
      "Average of y on the training label values is 5.878764675855028\n"
     ]
    }
   ],
   "source": [
    "#@title\n",
    "# Task 2: implement the simplest predictor\n",
    "# The function computes the average value of y on the training label values\n",
    "def compute_average(y_train):\n",
    "     mean=np.mean(y_train)\n",
    "     return mean\n",
    "y_train_avg = compute_average(y_train)\n",
    "print(\"Average of y on the training label values is {}\".format(y_train_avg))\n",
    "\n",
    "# The simplest predictor returns the average value.\n",
    "def simplest_predictor(X_test, y_train_avg):\n",
    "  return y_train_avg\n"
   ]
  },
  {
   "cell_type": "markdown",
   "metadata": {
    "colab_type": "text",
    "id": "x531Q_SxXV14"
   },
   "source": [
    "### **Task 3**\n",
    "Report the mean squared error, i.e., the average of the squared residuals, using this simplest of predictors on the training and test data. We should hope that our models beat at lease this baseline. "
   ]
  },
  {
   "cell_type": "code",
   "execution_count": 47,
   "metadata": {
    "colab": {
     "base_uri": "https://localhost:8080/",
     "height": 102
    },
    "colab_type": "code",
    "executionInfo": {
     "elapsed": 1394,
     "status": "ok",
     "timestamp": 1596436129240,
     "user": {
      "displayName": "Haozhe Zhang",
      "photoUrl": "https://lh3.googleusercontent.com/a-/AOh14GhewCb1FImnjURCLugyfalL8wVXJomnuoEHUckN=s64",
      "userId": "15943369882491692800"
     },
     "user_tz": -480
    },
    "id": "mV8l6Ci9YlgL",
    "outputId": "f57858dc-d0fc-40fe-dbf7-c652d2f8fddb"
   },
   "outputs": [
    {
     "name": "stdout",
     "output_type": "stream",
     "text": [
      "Simplest Predictor\n",
      "--------------------------------------------------------------------------------\n",
      "\n",
      "MSE (Training) = 0.7768\n",
      "MSE (Testing)  = 0.8139\n"
     ]
    }
   ],
   "source": [
    "# We will evaluate our simplest predictor here. \n",
    "# Implement a function that can report the mean squared error \n",
    "# of a predictor on the given test data\n",
    "# Input: test dataset and predictor\n",
    "# Output: mean squared error of the predictor on the given test data\n",
    "def test_data(X_test, y_test, predictor: callable=None):\n",
    "    # Applies the predictor to each row to compute the predicted values\n",
    "    y_predicted = np.apply_along_axis(predictor, 1, X_test)\n",
    "    err = (y_predicted-y_test)\n",
    "    mse = (err.T @ err)/X_test.shape[0]\n",
    "    return mse\n",
    "\n",
    "# use the above function test_data to evaluate the simplest predictor\n",
    "# we use the lambda function here to pass the function simplest_predictor to the evaluator.\n",
    "mse_simplest_predictor_train = test_data(X_train, y_train, lambda x: simplest_predictor(x, y_train_avg))\n",
    "mse_simplest_predictor_test = test_data(X_test, y_test, lambda x: simplest_predictor(x, y_train_avg))\n",
    "\n",
    "# Report the result\n",
    "print('Simplest Predictor')\n",
    "print('--------------------------------------------------------------------------------\\n')\n",
    "print('MSE (Training) = %.4f' % mse_simplest_predictor_train)\n",
    "print('MSE (Testing)  = %.4f' % mse_simplest_predictor_test)"
   ]
  },
  {
   "cell_type": "markdown",
   "metadata": {
    "colab_type": "text",
    "id": "cRPPA6HMbNOr"
   },
   "source": [
    "### **Task 4**\n",
    "Is it strictly necessary to standardize the data for the linear model using the least squares method? Why?\n",
    "\n",
    "While we need standardization for the maximum likelyhood estimator, the approach using ordinary least squares does not require standarized data. For this linear regression model it is okay to have data values on different scales. However with regards to the interpretation it might be useful to standardize in order to report the results unitless and essentially enhance the interpretation. For example the intercept for a model trained on standardized data can be interprepted as the expected prediction value when all predictors are set to their means. Otherwise, for a model train on non standardized data, the intercept is interpreted as the expected prediction value when the predictors are set to 0."
   ]
  },
  {
   "cell_type": "markdown",
   "metadata": {
    "colab_type": "text",
    "id": "WSEwFGp_bqAI"
   },
   "source": [
    "### **Task 5**\n",
    "Standardize the data, i.e., make the data for every feature have mean 0 and variance 1. \n",
    "\n",
    "We do the standardization using the training data, and we need to remember the means and\n",
    "the standard deviations so that they can be applied to the test data as well. Apply the\n",
    "standardization so that every feature in the training data has mean 0 and variance 1. Apply\n",
    "the same transformation to the test data. "
   ]
  },
  {
   "cell_type": "code",
   "execution_count": 48,
   "metadata": {
    "colab": {
     "base_uri": "https://localhost:8080/",
     "height": 68
    },
    "colab_type": "code",
    "executionInfo": {
     "elapsed": 1387,
     "status": "ok",
     "timestamp": 1596436129241,
     "user": {
      "displayName": "Haozhe Zhang",
      "photoUrl": "https://lh3.googleusercontent.com/a-/AOh14GhewCb1FImnjURCLugyfalL8wVXJomnuoEHUckN=s64",
      "userId": "15943369882491692800"
     },
     "user_tz": -480
    },
    "id": "trjwkcgybhDH",
    "outputId": "d87a4635-354f-47e2-947a-e843f027e4cb"
   },
   "outputs": [
    {
     "name": "stdout",
     "output_type": "stream",
     "text": [
      "Mean:\n",
      " [6.85427514e+00 2.78390761e-01 3.34892802e-01 6.42623788e+00\n",
      " 4.58213374e-02 3.53263144e+01 1.38513272e+02 9.94040729e-01\n",
      " 3.18647524e+00 4.89055641e-01 1.05115799e+01]\n",
      "Standard deviation:\n",
      " [8.39100902e-01 9.95630176e-02 1.24249975e-01 5.06377532e+00\n",
      " 2.16660282e-02 1.71004677e+01 4.23956179e+01 2.97972269e-03\n",
      " 1.49949475e-01 1.12992053e-01 1.22536544e+00]\n"
     ]
    }
   ],
   "source": [
    "# Input: training data\n",
    "# Output: standardize training data, standard deviations and means\n",
    "def standardize_data(X):\n",
    "    mean = np.mean(X,axis=0)\n",
    "    std = np.std(X,axis=0)\n",
    "    X_std = (X-mean)/std\n",
    "    return X_std, mean, std\n",
    "\n",
    "X_train_std, mean, std_dev = standardize_data(X_train)\n",
    "\n",
    "print(\"Mean:\\n\", mean)\n",
    "print(\"Standard deviation:\\n\", std_dev)"
   ]
  },
  {
   "cell_type": "code",
   "execution_count": 49,
   "metadata": {
    "colab": {
     "base_uri": "https://localhost:8080/",
     "height": 102
    },
    "colab_type": "code",
    "executionInfo": {
     "elapsed": 1380,
     "status": "ok",
     "timestamp": 1596436129242,
     "user": {
      "displayName": "Haozhe Zhang",
      "photoUrl": "https://lh3.googleusercontent.com/a-/AOh14GhewCb1FImnjURCLugyfalL8wVXJomnuoEHUckN=s64",
      "userId": "15943369882491692800"
     },
     "user_tz": -480
    },
    "id": "RjzbA5JpM759",
    "outputId": "ff594788-2fdd-419c-98fa-beac6a53cfc9"
   },
   "outputs": [
    {
     "name": "stdout",
     "output_type": "stream",
     "text": [
      "X_test:\n",
      " [[6.7000e+00 3.4000e-01 5.4000e-01 1.6300e+01 4.7000e-02 4.4000e+01\n",
      "  1.8100e+02 9.9870e-01 3.0400e+00 5.6000e-01 8.8000e+00]\n",
      " [7.9000e+00 3.3000e-01 2.8000e-01 3.1600e+01 5.3000e-02 3.5000e+01\n",
      "  1.7600e+02 1.0103e+00 3.1500e+00 3.8000e-01 8.8000e+00]\n",
      " [7.2000e+00 3.1000e-01 3.5000e-01 7.2000e+00 4.6000e-02 4.5000e+01\n",
      "  1.7800e+02 9.9550e-01 3.1400e+00 5.3000e-01 9.7000e+00]]\n",
      "X_test_std:\n",
      " [[-0.18385767  0.61879643  1.65076248  1.94988156  0.05440141  0.5072192\n",
      "   1.00214904  1.56365937 -0.97683064  0.62787034 -1.39679138]\n",
      " [ 1.24624447  0.51835753 -0.44179327  4.97134263  0.33133265 -0.01908219\n",
      "   0.88421233  5.45663908 -0.24325022 -0.96516204 -1.39679138]\n",
      " [ 0.41201822  0.31747972  0.12158713  0.15280341  0.00824621  0.56569713\n",
      "   0.93138701  0.48973393 -0.30993935  0.36236495 -0.66231661]]\n"
     ]
    }
   ],
   "source": [
    "# TODO: Standardize the test data using the mean and standrad deviation you computed for the training data\n",
    "print(\"X_test:\\n\", X_test[:3])\n",
    "X_test_std = (X_test-mean)/std_dev\n",
    "print(\"X_test_std:\\n\", X_test_std[:3])"
   ]
  },
  {
   "cell_type": "markdown",
   "metadata": {
    "colab_type": "text",
    "id": "vT4_Sl42bxmD"
   },
   "source": [
    "### **Task 6**\n",
    "Implement the linear model predictor, and report the mean squared error using the linear model on the training and test data.\n",
    "\n",
    "We will do this in several steps. We need to implement the function for computing the parameters based on the training dataset. Note we need to add the bias column to the dataset. "
   ]
  },
  {
   "cell_type": "code",
   "execution_count": 50,
   "metadata": {},
   "outputs": [],
   "source": [
    "# the function adds a column of ones to the front of the input matrix\n",
    "def expand_with_ones(X):\n",
    "    # Here we create an array of 1 which has the same length of the number of the X's rows \n",
    "    vector=np.repeat(1,X.shape[0])\n",
    "    # Now we expand the dimendion of the array in order to get the dim of Nx1\n",
    "    vector=np.expand_dims(vector,axis=1)\n",
    "    # As next we add the vector to the X Matrix\n",
    "    X_out = np.append(vector,X, axis=1)\n",
    "    return X_out"
   ]
  },
  {
   "cell_type": "code",
   "execution_count": 51,
   "metadata": {},
   "outputs": [
    {
     "name": "stdout",
     "output_type": "stream",
     "text": [
      "Weight obtained through closed form solution\n",
      " [ 5.87876468e+00  5.70365710e-02 -1.83384219e-01 -4.04067444e-03\n",
      "  4.09097280e-01 -8.17517111e-03  5.92929519e-02 -3.56633675e-03\n",
      " -4.36936781e-01  9.87381161e-02  6.53325059e-02  2.42495455e-01]\n"
     ]
    }
   ],
   "source": [
    "# The function computes the parameters\n",
    "def least_squares_closed_form(X_input, y):\n",
    "    # add the bias column to the dataset\n",
    "    X = expand_with_ones(X_input)\n",
    "    w = np.linalg.inv(X.T @ X) @ X.T @ y\n",
    "    return w\n",
    "# train the linear model parameters\n",
    "w_cf = least_squares_closed_form(X_train_std, y_train) \n",
    "print(\"Weight obtained through closed form solution\\n\", w_cf)\n"
   ]
  },
  {
   "cell_type": "code",
   "execution_count": 52,
   "metadata": {},
   "outputs": [
    {
     "name": "stdout",
     "output_type": "stream",
     "text": [
      "Weights obtained by gradient descent\n",
      " [ 5.87857269e+00  2.92788339e-02 -1.84603362e-01 -5.30894477e-03\n",
      "  3.21908808e-01 -1.24749872e-02  7.03224630e-02 -1.62831613e-02\n",
      " -3.03074713e-01  7.61050257e-02  5.81915717e-02  3.03530157e-01]\n"
     ]
    }
   ],
   "source": [
    "# The function computes the parameters\n",
    "#This function takes as input\n",
    "# Matrix containing the samples X E R^{Nx12}\n",
    "# Column vector y E R^{Nx1} containing \n",
    "def least_squares_gradient_descent(X_input, y):\n",
    "    # Add the bias column to the dataset\n",
    "    X = expand_with_ones(X_input)\n",
    "\n",
    "    # Defining hyperparameters\n",
    "    learning_rate = 0.01\n",
    "    n_iters = 1024\n",
    "    n_samples = X.shape[0]\n",
    "    n_weights = X.shape[1]\n",
    "\n",
    "    # Randomly initialize the weights\n",
    "    params = np.matrix(np.random.rand(n_weights,1 ))\n",
    "    \n",
    "    # Gradient descent to find linear approximation\n",
    "    for i in range(n_iters): \n",
    "        params = params - (learning_rate/n_samples) * (X.T @ (X @ params - y)) \n",
    "\n",
    "    return np.squeeze(np.asarray(params))\n",
    "\n",
    "w_gd = least_squares_gradient_descent(X_train_std, y_train.reshape(-1,1)) \n",
    "print(\"Weights obtained by gradient descent\\n\", w_gd)\n",
    "\n"
   ]
  },
  {
   "cell_type": "code",
   "execution_count": 53,
   "metadata": {},
   "outputs": [
    {
     "data": {
      "image/png": "[encoded data removed]",
      "text/plain": [
       "<Figure size 432x288 with 1 Axes>"
      ]
     },
     "metadata": {
      "needs_background": "light"
     },
     "output_type": "display_data"
    },
    {
     "data": {
      "image/png": "[encoded data removed]",
      "text/plain": [
       "<Figure size 432x288 with 1 Axes>"
      ]
     },
     "metadata": {
      "needs_background": "light"
     },
     "output_type": "display_data"
    },
    {
     "data": {
      "image/png": "[encoded data removed]",
      "text/plain": [
       "<Figure size 432x288 with 1 Axes>"
      ]
     },
     "metadata": {
      "needs_background": "light"
     },
     "output_type": "display_data"
    },
    {
     "data": {
      "image/png": "[encoded data removed]",
      "text/plain": [
       "<Figure size 432x288 with 1 Axes>"
      ]
     },
     "metadata": {
      "needs_background": "light"
     },
     "output_type": "display_data"
    },
    {
     "data": {
      "image/png": "[encoded data removed]",
      "text/plain": [
       "<Figure size 432x288 with 1 Axes>"
      ]
     },
     "metadata": {
      "needs_background": "light"
     },
     "output_type": "display_data"
    },
    {
     "data": {
      "image/png": "[encoded data removed]",
      "text/plain": [
       "<Figure size 432x288 with 1 Axes>"
      ]
     },
     "metadata": {
      "needs_background": "light"
     },
     "output_type": "display_data"
    },
    {
     "data": {
      "image/png": "[encoded data removed]",
      "text/plain": [
       "<Figure size 432x288 with 1 Axes>"
      ]
     },
     "metadata": {
      "needs_background": "light"
     },
     "output_type": "display_data"
    },
    {
     "data": {
      "image/png": "[encoded data removed]",
      "text/plain": [
       "<Figure size 432x288 with 1 Axes>"
      ]
     },
     "metadata": {
      "needs_background": "light"
     },
     "output_type": "display_data"
    },
    {
     "data": {
      "image/png": "[encoded data removed]",
      "text/plain": [
       "<Figure size 432x288 with 1 Axes>"
      ]
     },
     "metadata": {
      "needs_background": "light"
     },
     "output_type": "display_data"
    },
    {
     "data": {
      "image/png": "[encoded data removed]",
      "text/plain": [
       "<Figure size 432x288 with 1 Axes>"
      ]
     },
     "metadata": {
      "needs_background": "light"
     },
     "output_type": "display_data"
    },
    {
     "data": {
      "image/png": "[encoded data removed]",
      "text/plain": [
       "<Figure size 432x288 with 1 Axes>"
      ]
     },
     "metadata": {
      "needs_background": "light"
     },
     "output_type": "display_data"
    }
   ],
   "source": [
    "x_labels = [\"Fixed acidity\", \"Volatile acidity\", \"Citric acid\", \"Residual sugar\", \"Chlorides\", \"Free sulfur dioxide\", \"Total sulfur dioxide\", \"Density\", \"pH\", \"Sulphates\", \"Alcohol\"]\n",
    "y_label = \"Quality\"\n",
    "\n",
    "w = w_cf\n",
    "# Inspect predicted weights\n",
    "for i in range(X_train_std.shape[1]):\n",
    "    x = np.linspace(-5, 15, 1000)\n",
    "    bias = w[0]\n",
    "    slope = w[i+1]\n",
    "    plt.plot(x, bias + slope*x, linestyle='solid')\n",
    "    plt.plot(X_train_std[:,i], y_train, '.', color='black')\n",
    "    plt.xlabel(x_labels[i])\n",
    "    plt.ylabel(y_label)\n",
    "    plt.title('{} vs. {}'.format(x_labels[i], y_label))\n",
    "    plt.show()"
   ]
  },
  {
   "cell_type": "markdown",
   "metadata": {
    "colab_type": "text",
    "id": "lasj_1PpeZib"
   },
   "source": [
    "We then implement the linear model predictor given the dataset and the parameters. "
   ]
  },
  {
   "cell_type": "code",
   "execution_count": 54,
   "metadata": {
    "colab": {},
    "colab_type": "code",
    "id": "Lb-hNagxc3Wj"
   },
   "outputs": [],
   "source": [
    "# Implement the linear model predictor\n",
    "# Input: test data and parameters\n",
    "# Output: predicted values\n",
    "def linear_model_predictor(X, w):\n",
    "    y_predicted = X @ w\n",
    "    return y_predicted\n",
    "    ###################################################\n",
    "    ##### YOUR CODE ENDS HERE #########################\n",
    "    ###################################################\n"
   ]
  },
  {
   "cell_type": "markdown",
   "metadata": {
    "colab_type": "text",
    "id": "cFOYpwbufz7J"
   },
   "source": [
    "We can now evaluate our linear model predictor on the test dataset. "
   ]
  },
  {
   "cell_type": "code",
   "execution_count": 55,
   "metadata": {
    "colab": {
     "base_uri": "https://localhost:8080/",
     "height": 34
    },
    "colab_type": "code",
    "executionInfo": {
     "elapsed": 1363,
     "status": "ok",
     "timestamp": 1596436129243,
     "user": {
      "displayName": "Haozhe Zhang",
      "photoUrl": "https://lh3.googleusercontent.com/a-/AOh14GhewCb1FImnjURCLugyfalL8wVXJomnuoEHUckN=s64",
      "userId": "15943369882491692800"
     },
     "user_tz": -480
    },
    "id": "LuHHmn2RB55j",
    "outputId": "b6cb4556-2618-419a-a082-214f2e6ecb5e"
   },
   "outputs": [
    {
     "name": "stdout",
     "output_type": "stream",
     "text": [
      "Mean squared error is 0.5607292042283472\n"
     ]
    }
   ],
   "source": [
    "# use the function test_data to evaluate the linear model predictor\n",
    "mse_linear_model_predictor = test_data(expand_with_ones(X_test_std), y_test, lambda x: linear_model_predictor(x, w))\n",
    "print(\"Mean squared error is {}\".format(mse_linear_model_predictor))"
   ]
  },
  {
   "cell_type": "markdown",
   "metadata": {
    "colab_type": "text",
    "id": "zqj4HKAihF7Q"
   },
   "source": [
    "## Learning Curves\n",
    "\n",
    "Let us see if the linear model is overfitting or underfitting. Since the dataset is somewhat large and there are only 11 features, our guess should be that it may either be underfitting or be about right."
   ]
  },
  {
   "cell_type": "markdown",
   "metadata": {
    "colab_type": "text",
    "id": "XDLCsjzWhMCp"
   },
   "source": [
    "Starting with 20 datapoints, we’ll use training datasets of increasing size, in increments of 20 up to about 600 datapoints. For each case train the linear model only using the first n elements of\n",
    "the training data. Calculate the training error (on the data used) and the test error (on the full test set). Plot the training error and test error as a function of the size of the dataset used for\n",
    "training."
   ]
  },
  {
   "cell_type": "markdown",
   "metadata": {
    "colab_type": "text",
    "id": "MNf11kurCgKF"
   },
   "source": [
    "### **Task 7** \n",
    "Implement a function that evaluates the linear model over the training dataset with the input size.\n",
    "The function takes a dataset and the split coefficient as inputs, and\n",
    "1. splits the data to training and test datasets,\n",
    "2. standardizes the data,\n",
    "3. trains the linear model, and\n",
    "4. reports the mse of the linear model predictor on both training and test datasets. "
   ]
  },
  {
   "cell_type": "code",
   "execution_count": 56,
   "metadata": {
    "colab": {
     "base_uri": "https://localhost:8080/",
     "height": 102
    },
    "colab_type": "code",
    "executionInfo": {
     "elapsed": 1355,
     "status": "ok",
     "timestamp": 1596436129244,
     "user": {
      "displayName": "Haozhe Zhang",
      "photoUrl": "https://lh3.googleusercontent.com/a-/AOh14GhewCb1FImnjURCLugyfalL8wVXJomnuoEHUckN=s64",
      "userId": "15943369882491692800"
     },
     "user_tz": -480
    },
    "id": "UcGRQBrEb106",
    "outputId": "179c5ec0-ee87-4c4b-a02b-d97d55862e1f"
   },
   "outputs": [
    {
     "name": "stdout",
     "output_type": "stream",
     "text": [
      "MSE using Linear Models\n",
      "-----------------------\n",
      "\n",
      "MSE (Training) = 0.5497\n",
      "MSE (Testing)  = 0.6283\n"
     ]
    }
   ],
   "source": [
    "# Input: dataset and split coefficient\n",
    "# Output: mse of the linear model predictor on both the training and test datasets\n",
    "def train_and_test(X, y, split_coeff):\n",
    "    #shuffle the data before splitting it.\n",
    "    np.random.seed(42)\n",
    "    permutation = np.random.permutation(X.shape[0])\n",
    "    X = np.take(X, permutation,axis=0)\n",
    "    y = np.take(y, permutation,axis=0)\n",
    "    ## 1.Split the data into training and test data.\n",
    "    #The first m entries from X will be taken as the training data.\n",
    "    #The last (n - m) entries from X will be used as test data.\n",
    "    X_train, y_train, X_test, y_test = split_data(X, y, split_coeff)\n",
    "    ## 2. Standardize the data\n",
    "    # Start by standardizing the training data\n",
    "    X_train_std, X_train_mean, X_train_std_div = standardize_data(X_train)  \n",
    "    # Standardization, using the mean and the sd we already calculated in the task 5\n",
    "    X_test_std = (X_test-X_train_mean)/X_train_std_div\n",
    "    ## 3. Train the linear model using the function built in the task 6\n",
    "    w = least_squares_closed_form(X_train_std, y_train)\n",
    "    ## 4. We use the given mse comand of the previous task \n",
    "    mse_train = test_data(expand_with_ones(X_train_std), y_train, lambda x: linear_model_predictor(x, w))\n",
    "    mse_test  = test_data(expand_with_ones(X_test_std), y_test, lambda x: linear_model_predictor(x, w))\n",
    "    return mse_train, mse_test\n",
    "\n",
    "mse_train, mse_test = train_and_test(X, y, 0.8)\n",
    "print('MSE using Linear Models')\n",
    "print('-----------------------\\n')\n",
    "print('MSE (Training) = %.4f' % mse_train)\n",
    "print('MSE (Testing)  = %.4f' % mse_test)\n"
   ]
  },
  {
   "cell_type": "markdown",
   "metadata": {
    "colab_type": "text",
    "id": "NTJw_BrzhRwi"
   },
   "source": [
    "### **Task 8**\n",
    "Report the learning curves plot. Also, explain whether you think the model is underfitting or not and how much data you need before getting the optimal test error."
   ]
  },
  {
   "cell_type": "code",
   "execution_count": 57,
   "metadata": {
    "colab": {
     "base_uri": "https://localhost:8080/",
     "height": 279
    },
    "colab_type": "code",
    "executionInfo": {
     "elapsed": 1747,
     "status": "ok",
     "timestamp": 1596436129644,
     "user": {
      "displayName": "Haozhe Zhang",
      "photoUrl": "https://lh3.googleusercontent.com/a-/AOh14GhewCb1FImnjURCLugyfalL8wVXJomnuoEHUckN=s64",
      "userId": "15943369882491692800"
     },
     "user_tz": -480
    },
    "id": "jDsdh4T3hcIU",
    "outputId": "621c4890-1c55-4e9b-f28f-33d60907d8b9"
   },
   "outputs": [
    {
     "data": {
      "image/png": "[encoded data removed]",
      "text/plain": [
       "<Figure size 432x288 with 1 Axes>"
      ]
     },
     "metadata": {
      "needs_background": "light"
     },
     "output_type": "display_data"
    },
    {
     "name": "stdout",
     "output_type": "stream",
     "text": [
      "The minimal test error of 0.3907952726841314 is reached for 200 samples.\n"
     ]
    }
   ],
   "source": [
    "mse_train_v = []\n",
    "mse_test_v = []\n",
    "\n",
    "TRAINING_SIZE_MAX = 601\n",
    "TRAINING_SIZE_MIN = 20\n",
    "\n",
    "train_test_split = range(TRAINING_SIZE_MIN, TRAINING_SIZE_MAX, 20)\n",
    "for train_size in train_test_split:\n",
    "   # Select the train_size elements of the data for the estimation\n",
    "    X_est = X[:train_size]\n",
    "    y_est = y[:train_size]\n",
    "    # Use the above defined function to calculate the training error and test error\n",
    "    mse_train, mse_test = train_and_test(X_est, y_est, 0.8)\n",
    "    # Add them to mse_train_v and mse_test_v, respectively\n",
    "    mse_train_v.append(mse_train)\n",
    "    mse_test_v.append(mse_test)\n",
    "\n",
    "# The below code outputs the plot of mse from different training sizes\n",
    "plt.figure(2)\n",
    "line_train_err = plt.plot(np.arange(TRAINING_SIZE_MIN, TRAINING_SIZE_MAX, 20), mse_train_v, 'r--', label=\"Training Error\")\n",
    "line_test_err = plt.plot(np.arange(TRAINING_SIZE_MIN, TRAINING_SIZE_MAX, 20), mse_test_v, 'b-', label=\"Test Error\")\n",
    "plt.legend(['training error', 'test error'], loc='upper right')\n",
    "plt.xlabel('Dataset Size')\n",
    "plt.ylabel('Mean Squared Error')\n",
    "plt.show()\n",
    "\n",
    "#Finding out minimum\n",
    "c = np.arange(TRAINING_SIZE_MIN, TRAINING_SIZE_MAX, 20)\n",
    "A = np.vstack((c,mse_test_v)).T\n",
    "min_test_err = np.min(mse_test_v)\n",
    "min_test_err_num_samples = train_test_split[np.argmin(mse_test_v)]\n",
    "\n",
    "print(\"The minimal test error of %s is reached for %s samples.\" %(min_test_err, min_test_err_num_samples))"
   ]
  },
  {
   "cell_type": "markdown",
   "metadata": {},
   "source": [
    "Here it can be observed, that the minimun test error equals to 0.39 (approx.) using approx 200 observations. At the beginning we can also observe that the test error is much greater than the training error, indicating that the model is underfitting. Sicne, the test error reaches the same level as the training error for more than 140 observations, we think that the minimum training size should be between 140 and 200 observations."
   ]
  },
  {
   "cell_type": "markdown",
   "metadata": {
    "colab_type": "text",
    "id": "djpsaTu_kK3T"
   },
   "source": [
    "## Polynomial Basis Expansion with Ridge and Lasso\n",
    "\n",
    "For this part use the following from the scikit-learn package. Read the documentation available here: http://scikit-learn.org/stable/modules/classes.html\n",
    "\n"
   ]
  },
  {
   "cell_type": "markdown",
   "metadata": {
    "colab_type": "text",
    "id": "pnw2FEvqkdV_"
   },
   "source": [
    "You will need the use the following:"
   ]
  },
  {
   "cell_type": "code",
   "execution_count": 58,
   "metadata": {
    "colab": {},
    "colab_type": "code",
    "id": "9TM0nkNbkhfM"
   },
   "outputs": [],
   "source": [
    "# You will need the following libs. \n",
    "# Fell free to import other libs. \n",
    "\n",
    "# import the preprocessing libs for standarization and basis expansion\n",
    "from sklearn.preprocessing import StandardScaler, PolynomialFeatures \n",
    "\n",
    "# Ridge and Lasso linear model\n",
    "from sklearn.linear_model import Ridge, Lasso "
   ]
  },
  {
   "cell_type": "markdown",
   "metadata": {
    "colab_type": "text",
    "id": "9fAfOfXCksT9"
   },
   "source": [
    "Try 5 powers of 10 for lambda from 10^-2 to 10^2 and use degree 2 basis expansion. Fit ridge and lasso using degree 2 polynomial expansion with these values of lambda. You should pick the optimal values for lambda using a validation set. Set the last 20% of the training set for the purpose of validation."
   ]
  },
  {
   "cell_type": "markdown",
   "metadata": {
    "colab_type": "text",
    "id": "pCwBPuOXlRF7"
   },
   "source": [
    "### **Task 9**\n",
    "Let's implement the function for expanding the basis of the dataset. \n",
    "\n",
    "Hints: use `PolynomialFeatures`"
   ]
  },
  {
   "cell_type": "code",
   "execution_count": 59,
   "metadata": {
    "colab": {},
    "colab_type": "code",
    "id": "50azFolql1qA"
   },
   "outputs": [],
   "source": [
    "def expand_basis(X, degree):\n",
    "    poly = PolynomialFeatures(degree, interaction_only=False, include_bias=False, order='C')\n",
    "    # Note that we exclude the bias term. This is done to prevent problems when standardizing the data later on\n",
    "    return poly.fit_transform(X)"
   ]
  },
  {
   "cell_type": "markdown",
   "metadata": {
    "colab_type": "text",
    "id": "6jwkPevimQri"
   },
   "source": [
    "### **Task 10**\n",
    "Prepare the training, test and validation data using the expanded dataset. Expand and standardize the the data. \n",
    "\n",
    "Hints: you can use `StandardScaler` and `std_scaler` to standardize the data"
   ]
  },
  {
   "cell_type": "code",
   "execution_count": 60,
   "metadata": {
    "colab": {},
    "colab_type": "code",
    "id": "dQCq4G9YmW7w"
   },
   "outputs": [
    {
     "name": "stdout",
     "output_type": "stream",
     "text": [
      "\n"
     ]
    }
   ],
   "source": [
    "# TODO: the training, test and validation data using the expanded dataset.\n",
    "# The code below is just for compilation. \n",
    "# You need to replace it by your own code.\n",
    "def prepare_data(X, y, degree):\n",
    "    # You need expand the basis of the data, and do standardization\n",
    "    print()\n",
    "    X=expand_basis(X,degree)\n",
    "    # training data & test data using the function split_data\n",
    "    X_train, y_train, X_test, y_test = split_data(X, y, 0.8)\n",
    "    # Standardization of the training data using the code by task 7\n",
    "    X_train, mean, std_div = standardize_data(X_train)  \n",
    "    # Then standardize the test data using the same code by task 7\n",
    "    X_test = (X_test-mean)/std_div\n",
    "    # Next step: split the training data to training and validation data using a split coefficient of 0.8\n",
    "    X_train, y_train, X_valid, y_valid = split_data(X_train, y_train, 0.8)\n",
    "    return X_train, y_train, X_valid, y_valid, X_test, y_test\n",
    "# Activation and expansion of data\n",
    "X_train, y_train, X_valid, y_valid, X_test, y_test = prepare_data(X, y, 2) # here we expand the dataset with degree 2"
   ]
  },
  {
   "cell_type": "markdown",
   "metadata": {
    "colab_type": "text",
    "id": "i3BxxtM3nghU"
   },
   "source": [
    "### **Task 11**\n",
    "We have prepared the training data and the validation data. We can now choose the hyper parameter lambda for Ridge and Lasso using the validation data. \n"
   ]
  },
  {
   "cell_type": "code",
   "execution_count": 61,
   "metadata": {
    "colab": {
     "base_uri": "https://localhost:8080/",
     "height": 555
    },
    "colab_type": "code",
    "executionInfo": {
     "elapsed": 3266,
     "status": "ok",
     "timestamp": 1596436131187,
     "user": {
      "displayName": "Haozhe Zhang",
      "photoUrl": "https://lh3.googleusercontent.com/a-/AOh14GhewCb1FImnjURCLugyfalL8wVXJomnuoEHUckN=s64",
      "userId": "15943369882491692800"
     },
     "user_tz": -480
    },
    "id": "SvXcAGW1oHq1",
    "outputId": "25a38d1f-013f-4b0a-9cbb-3f08b68c0371"
   },
   "outputs": [
    {
     "name": "stdout",
     "output_type": "stream",
     "text": [
      "Best lambda value for ridge regression: 0.01\n",
      "Best lambda value for lasso regression: 0.01\n"
     ]
    }
   ],
   "source": [
    "# The function takes the training and validation data as inputs, and \n",
    "# returns the lambda value that has the minimal mse\n",
    "# We use is_ridge to indicate the model we consider. \n",
    "# is_ridge = True indicates Ridge while is_ridge = False indicates Lasso\n",
    "def choose_hyper_param(X_train, y_train, X_valid, y_valid, is_ridge: bool):\n",
    "    mse_arr = []\n",
    "    lam_arr = []\n",
    "    title = ''\n",
    "    for pow_lam in range(-2, 3):\n",
    "        lam = 10 ** pow_lam\n",
    "        if is_ridge:\n",
    "          title = \"Ridge Regression\"\n",
    "          regression = Ridge(lam).fit(X_train, y_train)\n",
    "        else:\n",
    "          title  = \"Lasso Regression\"\n",
    "          regression = Lasso(lam).fit(X_train, y_train)\n",
    "        # Get the predictions for the validation set\n",
    "        y_pred = regression.predict(X_valid)\n",
    "        # Calculate the mse\n",
    "        mse = np.sum((y_pred - y_valid) ** 2) / y_valid.shape[0]\n",
    "        # Add the mse when using the hyperparameter lam\n",
    "        mse_arr.append(mse) \n",
    "        lam_arr.append(lam)\n",
    "\n",
    "    # get the index of the lambda value that has the minimal mse\n",
    "    lambda_idx_min = np.argmin(np.array(mse_arr))\n",
    "\n",
    "    # plot of the lambda values and their mse\n",
    "    #plt.figure()\n",
    "    #plt.title(title)\n",
    "    #plt.semilogx(lam_arr, mse_arr)\n",
    "\n",
    "    # return the best lambda value\n",
    "    return lam_arr[lambda_idx_min]\n",
    "\n",
    "# call the function to choose the lambda for Ridge and Lasso\n",
    "lam_ridge = choose_hyper_param(X_train, y_train, X_valid, y_valid, True)\n",
    "lam_lasso = choose_hyper_param(X_train, y_train, X_valid, y_valid, False)\n",
    "\n",
    "print(\"Best lambda value for ridge regression:\", lam_ridge)\n",
    "print(\"Best lambda value for lasso regression:\", lam_lasso)"
   ]
  },
  {
   "cell_type": "markdown",
   "metadata": {
    "colab_type": "text",
    "id": "FAuX0uU5k9qD"
   },
   "source": [
    "### **Task 12**:\n",
    "Once you’ve obtained the optimal values for lambda for Ridge and Lasso, train these models using these hyperparameters on the full training data. Then report\n",
    "the training and test error."
   ]
  },
  {
   "cell_type": "code",
   "execution_count": 62,
   "metadata": {
    "colab": {
     "base_uri": "https://localhost:8080/",
     "height": 221
    },
    "colab_type": "code",
    "executionInfo": {
     "elapsed": 3259,
     "status": "ok",
     "timestamp": 1596436131187,
     "user": {
      "displayName": "Haozhe Zhang",
      "photoUrl": "https://lh3.googleusercontent.com/a-/AOh14GhewCb1FImnjURCLugyfalL8wVXJomnuoEHUckN=s64",
      "userId": "15943369882491692800"
     },
     "user_tz": -480
    },
    "id": "VmwHESkg77zK",
    "outputId": "9bb9c1cf-1649-40e6-9162-2244525d9446"
   },
   "outputs": [
    {
     "name": "stdout",
     "output_type": "stream",
     "text": [
      "For Ridge Regression with using degree 0 polynomial expansion and lambda = 0.0100\n",
      "--------------------------------------------------------------------------------\n",
      "\n",
      "MSE (Training) = 0.4976\n",
      "MSE (Testing)  = 0.5233\n",
      "\n",
      "\n",
      "For Lasso with using degree 0 polynomial expansion and lambda = 0.0100\n",
      "---------------------------------------------------------------------\n",
      "\n",
      "MSE (Training) = 0.5448\n",
      "MSE (Testing)  = 0.5439\n"
     ]
    }
   ],
   "source": [
    "# TODO: train the Ridge and Lasso models using their best parameters, and\n",
    "#       report their mse\n",
    "# Ridge Regression\n",
    "regression = Ridge(lam_ridge).fit(X_train, y_train)\n",
    "y_train_prediction_Ridge = regression.predict(X_train)\n",
    "y_test_prediction_Ridge = regression.predict(X_test)\n",
    "mse_ridge_train = np.sum((y_train-y_train_prediction_Ridge)**2) / y_train.shape[0]\n",
    "mse_ridge_test = np.sum((y_test-y_test_prediction_Ridge)**2) / y_test.shape[0]\n",
    "# Lasso Regression\n",
    "regression = Lasso(lam_lasso).fit(X_train, y_train)\n",
    "y_train_prediction_Lasso = regression.predict(X_train)\n",
    "y_test_prediction_Lasso = regression.predict(X_test)\n",
    "mse_lasso_train = np.sum((y_train-y_train_prediction_Lasso)**2) / y_train.shape[0]\n",
    "mse_lasso_test = np.sum((y_test-y_test_prediction_Lasso)**2) / y_test.shape[0]\n",
    "\n",
    "# Report the result\n",
    "print('For Ridge Regression with using degree %d polynomial expansion and lambda = %.4f' % (lam_ridge, lam_ridge))\n",
    "print('--------------------------------------------------------------------------------\\n')\n",
    "print('MSE (Training) = %.4f' % mse_ridge_train)\n",
    "print('MSE (Testing)  = %.4f' % mse_ridge_test)\n",
    "\n",
    "print('\\n\\nFor Lasso with using degree %d polynomial expansion and lambda = %.4f' % (lam_lasso, lam_lasso))\n",
    "print('---------------------------------------------------------------------\\n')\n",
    "print('MSE (Training) = %.4f' % mse_lasso_train)\n",
    "print('MSE (Testing)  = %.4f' % mse_lasso_test)"
   ]
  },
  {
   "cell_type": "markdown",
   "metadata": {
    "colab_type": "text",
    "id": "sfqRAlv1PBXi"
   },
   "source": [
    "### **Task 13**\n",
    "Try using higher degree basis expansion. You may want to use k-fold cross validation to determine\n",
    "the values of hyperparameters rather than just keeping a validation set. \n",
    "Hints: Use `KFold` to do this automatically. "
   ]
  },
  {
   "cell_type": "code",
   "execution_count": 66,
   "metadata": {
    "colab": {},
    "colab_type": "code",
    "id": "kpwY7UtQ8l-0"
   },
   "outputs": [
    {
     "name": "stdout",
     "output_type": "stream",
     "text": [
      "----\n",
      "RIDGE: expansion degree 1, number of folds 10 average mse 0.5721646765824048\n",
      "RIDGE Lambdas: [0.01, 0.01, 10, 0.01, 0.01, 0.01, 0.01, 0.01, 0.01, 0.01]\n",
      "LASSO: expansion degree 1, number of folds 10 average mse 0.5885110227173842\n",
      "LASSO Lambdas: [0.01, 0.01, 0.01, 0.01, 0.01, 0.01, 0.01, 0.01, 0.01, 0.01]\n",
      "----\n",
      "RIDGE: expansion degree 2, number of folds 10 average mse 0.5368738547087023\n",
      "RIDGE Lambdas: [0.01, 0.01, 0.01, 0.01, 100, 0.01, 0.01, 0.01, 0.1, 0.01]\n",
      "LASSO: expansion degree 2, number of folds 10 average mse 0.5548653606881466\n",
      "LASSO Lambdas: [0.01, 0.01, 0.01, 0.1, 0.01, 0.01, 0.01, 10, 1, 0.01]\n",
      "----\n",
      "RIDGE: expansion degree 3, number of folds 10 average mse 0.8819389525563535\n",
      "RIDGE Lambdas: [100, 10, 0.01, 100, 100, 10, 100, 1, 0.01, 10]\n",
      "LASSO: expansion degree 3, number of folds 10 average mse 0.5295953047742281\n",
      "LASSO Lambdas: [10, 0.01, 0.1, 10, 0.01, 0.01, 10, 0.01, 0.01, 0.01]\n"
     ]
    }
   ],
   "source": [
    "# KFold\n",
    "import warnings\n",
    "warnings.filterwarnings(\"ignore\")\n",
    "\n",
    "from sklearn.metrics import accuracy_score\n",
    "from sklearn.model_selection import cross_val_score\n",
    "from sklearn.model_selection import KFold\n",
    "# TODO: Try using higher degree basis expansion. Find the degree that gives the minimal mse. \n",
    "\n",
    "# The highest expansion degree that ridge can handle is 4\n",
    "# However, the highest expansion degree that lass can handle is 3\n",
    "max_degree = 3\n",
    "\n",
    "num_folds = 10\n",
    "\n",
    "for degree in range(1,max_degree+1):\n",
    "    ridge_err = []\n",
    "    ridge_lambdas = []\n",
    "    lasso_err = []\n",
    "    lasso_lambdas = []\n",
    "    X_expanded = expand_basis(X, degree)\n",
    "    \n",
    "    kf = KFold(n_splits=num_folds, random_state=None, shuffle=True)\n",
    "\n",
    "    for train_index, test_index in kf.split(X):\n",
    "        X_train, X_valid = X_expanded[train_index], X_expanded[test_index]\n",
    "        y_train, y_valid = y[train_index], y[test_index]\n",
    "        \n",
    "\n",
    "        # RIDGE REGRESSION\n",
    "        #Choose optimal lambda value for the current split\n",
    "        lam = choose_hyper_param(X_train, y_train, X_valid, y_valid, is_ridge=True)\n",
    "        \n",
    "        regression = Ridge(lam).fit(X_train, y_train)\n",
    "        #mse_ridge = test_data(X_valid, y_valid, lambda x: regression.predict(x))\n",
    "        y_pred = regression.predict(X_valid)\n",
    "        mse = np.sum((y_valid-y_pred)**2) / y_valid.shape[0]\n",
    "        \n",
    "        ridge_err.append(mse)\n",
    "        ridge_lambdas.append(lam)\n",
    "        \n",
    "        \n",
    "        # LASSO REGRESSION\n",
    "        #Choose optimal lambda value for the current split\n",
    "        lam = choose_hyper_param(X_train, y_train, X_valid, y_valid, is_ridge=False)\n",
    "        \n",
    "        regression = Lasso(lam).fit(X_train, y_train)\n",
    "        y_pred = regression.predict(X_valid)\n",
    "        mse = np.sum((y_valid-y_pred)**2) / y_valid.shape[0]\n",
    "    \n",
    "        lasso_err.append(mse)\n",
    "        lasso_lambdas.append(lam)\n",
    "        \n",
    "    print(\"----\")\n",
    "    print(\"RIDGE: expansion degree %s, number of folds %s average mse %s\" % (degree, num_folds, np.mean(ridge_err)))\n",
    "    print(\"RIDGE Lambdas:\", ridge_lambdas)\n",
    "    print(\"LASSO: expansion degree %s, number of folds %s average mse %s\" % (degree, num_folds, np.mean(lasso_err)))\n",
    "    print(\"LASSO Lambdas:\", lasso_lambdas)"
   ]
  },
  {
   "cell_type": "markdown",
   "metadata": {},
   "source": [
    "According to the results we are seeing here i would probably choose the quadratic basis expansion for ridge regression since the validation error is the lowest for degree 2. Furthermore the complexity of degree 2 basis expansion is a good tradeoff. For degree 3 the validation error already increases again. The most common lambda value we are seeing in this case is 0.01. Therefore we would choose 0.01 as the regularization parameter."
   ]
  }
 ],
 "metadata": {
  "colab": {
   "authorship_tag": "ABX9TyP96ktvsOI4PiuW52tcNLjx",
   "collapsed_sections": [],
   "name": "Practical1_starter.ipynb",
   "provenance": [],
   "toc_visible": true
  },
  "kernelspec": {
   "display_name": "Python 3",
   "language": "python",
   "name": "python3"
  },
  "language_info": {
   "codemirror_mode": {
    "name": "ipython",
    "version": 3
   },
   "file_extension": ".py",
   "mimetype": "text/x-python",
   "name": "python",
   "nbconvert_exporter": "python",
   "pygments_lexer": "ipython3",
   "version": "3.7.9"
  }
 },
 "nbformat": 4,
 "nbformat_minor": 4
}
